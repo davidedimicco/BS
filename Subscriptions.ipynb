{
 "cells": [
  {
   "cell_type": "markdown",
   "metadata": {},
   "source": [
    "# BS: Subscriptions"
   ]
  },
  {
   "cell_type": "markdown",
   "metadata": {},
   "source": [
    "Let's start by importing the necessary libraries and by defining the desired functions"
   ]
  },
  {
   "cell_type": "code",
   "execution_count": 1,
   "metadata": {},
   "outputs": [],
   "source": [
    "import numpy as np\n",
    "import pandas as pd\n",
    "import matplotlib.pyplot as plt\n",
    "\n",
    "# Function that simulates the unsubscribe-decisions of a single user, returning the period of unsubscription\n",
    "# p is the probability of unsubscribing at any period and T is the number of periods\n",
    "def single_user(p,T):\n",
    "    for i in range(T):\n",
    "        if(np.random.rand()<p):\n",
    "            return i\n",
    "    return T\n",
    "\n",
    "# Function that simulates the unsubscribe-decisions of N users, returning an array with the occurencies of all the possible outcomes\n",
    "# p is the probability of unsubscribing at any period, T is the number of periods and N is the number of users\n",
    "def users_simulator(p,T,N):\n",
    "    results=np.zeros(T+1)\n",
    "    for i in range(N):\n",
    "        results[single_user(p,T)]+=1\n",
    "    return results\n",
    "\n",
    "# Function that estimate the value for the parameter p which is most likely to lead to a measurement such as x, given T and N\n",
    "def parameter_estimator(x,T,N):\n",
    "    z=0\n",
    "    for i in range(T+1):\n",
    "        z+=i*x[i]\n",
    "    return (N-x[T])/(N-x[T]+z)\n"
   ]
  },
  {
   "cell_type": "markdown",
   "metadata": {},
   "source": [
    "Let's test the simulator and estimator functions"
   ]
  },
  {
   "cell_type": "code",
   "execution_count": 2,
   "metadata": {},
   "outputs": [
    {
     "name": "stdout",
     "output_type": "stream",
     "text": [
      "The difference between the original parameter and the estimated one is 0.002992807202856995\n"
     ]
    }
   ],
   "source": [
    "T=20\n",
    "N=10000\n",
    "p=0.5\n",
    "x=users_simulator(p,T,N)\n",
    "p_2=parameter_estimator(x,T,N)\n",
    "print(\"The difference between the original parameter and the estimated one is\", abs(p_2-p))"
   ]
  },
  {
   "cell_type": "markdown",
   "metadata": {},
   "source": [
    "It's now time to check how the estimation function behaves with respect to the given dataset"
   ]
  },
  {
   "cell_type": "code",
   "execution_count": 4,
   "metadata": {},
   "outputs": [
    {
     "name": "stdout",
     "output_type": "stream",
     "text": [
      "The estimated value for p is 0.07495642068564788\n"
     ]
    },
    {
     "data": {
      "image/png": "[encoded data removed]",
      "text/plain": [
       "<Figure size 432x288 with 1 Axes>"
      ]
     },
     "metadata": {
      "needs_background": "light"
     },
     "output_type": "display_data"
    },
    {
     "data": {
      "image/png": "[encoded data removed]",
      "text/plain": [
       "<Figure size 432x288 with 1 Axes>"
      ]
     },
     "metadata": {
      "needs_background": "light"
     },
     "output_type": "display_data"
    }
   ],
   "source": [
    "# Let's read the data from the csv file\n",
    "df=pd.read_csv(\"data_subscriptions.csv\")\n",
    "df.sort_values(by=[\"renewals\"],inplace=True)\n",
    "\n",
    "# Now we can take the array of results, the number of users and the timelength\n",
    "data=df['N'].to_numpy()\n",
    "N=data.sum()\n",
    "T=data.size-1\n",
    "\n",
    "# We can use the previous functions in order to get the optimal value for p\n",
    "possible_p = parameter_estimator(data,T,N)\n",
    "print(\"The estimated value for p is\", possible_p)\n",
    "\n",
    "# We can use this value to run simulations with same p, T and N to see if the results match the input data\n",
    "experiment=users_simulator(possible_p,T,N)\n",
    "\n",
    "plt.bar(np.arange(len(data)),data)\n",
    "plt.title('Input data')\n",
    "plt.show()\n",
    "\n",
    "plt.bar(np.arange(len(experiment)),experiment)\n",
    "plt.title('Simulation Output')\n",
    "plt.show()"
   ]
  },
  {
   "cell_type": "markdown",
   "metadata": {},
   "source": [
    "One can clearly see that the number of unsubscriptions in the simulation decreases linearly with time, whereas in the given input data, this is not the case (in particular the behaviour resembles an exponential profile). This probably means that the assumption that the number of unsubscriptions can be described via the previous distribution is wrong, because even by choosing the best value for p, the results are quite different from what we should expect. "
   ]
  }
 ],
 "metadata": {
  "kernelspec": {
   "display_name": "Python 3",
   "language": "python",
   "name": "python3"
  },
  "language_info": {
   "codemirror_mode": {
    "name": "ipython",
    "version": 3
   },
   "file_extension": ".py",
   "mimetype": "text/x-python",
   "name": "python",
   "nbconvert_exporter": "python",
   "pygments_lexer": "ipython3",
   "version": "3.7.4"
  }
 },
 "nbformat": 4,
 "nbformat_minor": 2
}
