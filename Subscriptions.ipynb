{
 "cells": [
  {
   "cell_type": "markdown",
   "metadata": {},
   "source": [
    "# BS: Subscriptions"
   ]
  },
  {
   "cell_type": "code",
   "execution_count": 76,
   "metadata": {},
   "outputs": [],
   "source": [
    "import numpy as np\n",
    "import pandas as pd\n",
    "import matplotlib.pyplot as plt\n",
    "\n",
    "# Function that simulates the unsubscribe-decisions of a single user, returning the period of unsubscription\n",
    "# p is the probability of unsubscribing at any period and T is the number of periods\n",
    "def single_user(p,T):\n",
    "    for i in range(T):\n",
    "        if(np.random.rand()<p):\n",
    "            return i\n",
    "    return T\n",
    "\n",
    "# Function that simulates the unsubscribe-decisions of N users, returning an array with the occurencies of all the possible outcomes\n",
    "# p is the probability of unsubscribing at any period, T is the number of periods and N is the number of users\n",
    "def users_simulator(p,T,N):\n",
    "    results=np.zeros(T+1)\n",
    "    for i in range(N):\n",
    "        results[single_user(p,T)]+=1\n",
    "    return results\n",
    "\n",
    "# Function that estimate the value for the parameter p which is most likely to lead to a measurement such as x, given T and N\n",
    "def parameter_estimator(x,T,N):\n",
    "    z=0\n",
    "    for i in range(T+1):\n",
    "        z+=i*x[i]\n",
    "    return (N-x[T])/(N-x[T]+z)\n"
   ]
  },
  {
   "cell_type": "code",
   "execution_count": 73,
   "metadata": {},
   "outputs": [
    {
     "name": "stdout",
     "output_type": "stream",
     "text": [
      "The difference between the original parameter and the estimated one is 0.0002751513332333033\n"
     ]
    }
   ],
   "source": [
    "# Let's test the simulator and estimator functions\n",
    "T=20\n",
    "N=10000\n",
    "p=0.5\n",
    "x=users_simulator(p,T,N)\n",
    "p_2=parameter_estimator(x,T,N)\n",
    "print(\"The difference between the original parameter and the estimated one is\", abs(p_2-p))"
   ]
  },
  {
   "cell_type": "code",
   "execution_count": 91,
   "metadata": {},
   "outputs": [
    {
     "name": "stdout",
     "output_type": "stream",
     "text": [
      "The estimated value for p is 0.07495642068564788\n"
     ]
    },
    {
     "data": {
      "image/png": "[encoded data removed]",
      "text/plain": [
       "<Figure size 432x288 with 1 Axes>"
      ]
     },
     "metadata": {
      "needs_background": "light"
     },
     "output_type": "display_data"
    },
    {
     "data": {
      "image/png": "[encoded data removed]",
      "text/plain": [
       "<Figure size 432x288 with 1 Axes>"
      ]
     },
     "metadata": {
      "needs_background": "light"
     },
     "output_type": "display_data"
    }
   ],
   "source": [
    "# Let's read the data from the csv file\n",
    "df=pd.read_csv(\"data_subscriptions.csv\")\n",
    "df.sort_values(by=[\"renewals\"],inplace=True)\n",
    "\n",
    "# Now we can take the array of results, the number of users and the timelength\n",
    "data=df['N'].to_numpy()\n",
    "N=data.sum()\n",
    "T=data.size-1\n",
    "\n",
    "# We can use the previous functions in order to get the optimal value for p\n",
    "possible_p = parameter_estimator(data,T,N)\n",
    "print(\"The estimated value for p is\", possible_p)\n",
    "\n",
    "# We can use this value to run simulations with same p, T and N to see if the results match the input data\n",
    "experiment=simulate_users(possible_p,T,N)\n",
    "\n",
    "plt.bar(np.arange(len(data)),data)\n",
    "plt.title('Input data')\n",
    "plt.show()\n",
    "\n",
    "plt.bar(np.arange(len(experiment)),experiment)\n",
    "plt.title('Simulation Output')\n",
    "plt.show()"
   ]
  },
  {
   "cell_type": "code",
   "execution_count": 54,
   "metadata": {},
   "outputs": [
    {
     "data": {
      "text/plain": [
       "array([ 734.,  710.,  604.,  601.,  559.,  534.,  464.,  405.,  365.,\n",
       "        380.,  336.,  330.,  283.,  263.,  252.,  244.,  210.,  192.,\n",
       "        189.,  167., 2178.])"
      ]
     },
     "execution_count": 54,
     "metadata": {},
     "output_type": "execute_result"
    }
   ],
   "source": [
    "test = np.zeros(21)\n",
    "test[0]=2747\n",
    "test[1]=1082\n",
    "test[2]=607\n",
    "test[3]=407\n",
    "test[4]=333\n",
    "test[5]=273\n",
    "test[6]=227\n",
    "test[7]=162\n",
    "test[8]=135\n",
    "test[9]=131\n",
    "test[10]=106\n",
    "test[11]=97\n",
    "test[12]=91\n",
    "test[13]=83\n",
    "test[14]=56\n",
    "test[15]=70\n",
    "test[16]=61\n",
    "test[17]=56\n",
    "test[18]=60\n",
    "test[19]=53\n",
    "test[20]=3163\n",
    "\n",
    "result = parameter_estimator(test,20,10000)\n",
    "result\n",
    "example=simulate_users(result,20,10000)\n",
    "example\n",
    "plt.figure(figsize=[10,8])\n",
    "n, bins, patches = plt.hist([data, ])"
   ]
  },
  {
   "cell_type": "code",
   "execution_count": 77,
   "metadata": {},
   "outputs": [
    {
     "data": {
      "image/png": "[encoded data removed]",
      "text/plain": [
       "<Figure size 720x576 with 1 Axes>"
      ]
     },
     "metadata": {
      "needs_background": "light"
     },
     "output_type": "display_data"
    }
   ],
   "source": []
  },
  {
   "cell_type": "code",
   "execution_count": null,
   "metadata": {},
   "outputs": [],
   "source": []
  }
 ],
 "metadata": {
  "kernelspec": {
   "display_name": "Python 3",
   "language": "python",
   "name": "python3"
  },
  "language_info": {
   "codemirror_mode": {
    "name": "ipython",
    "version": 3
   },
   "file_extension": ".py",
   "mimetype": "text/x-python",
   "name": "python",
   "nbconvert_exporter": "python",
   "pygments_lexer": "ipython3",
   "version": "3.7.4"
  }
 },
 "nbformat": 4,
 "nbformat_minor": 2
}
